{
 "cells": [
  {
   "cell_type": "code",
   "execution_count": 1,
   "id": "e1411553",
   "metadata": {},
   "outputs": [],
   "source": [
    "# Created by: Jess Gallo\n",
    "# Date Created: 07/10/2022\n",
    "# Last Modified: 07/11/2022\n",
    "# Description: Accenture Data Analyst (Forage) - Data Cleaning"
   ]
  },
  {
   "cell_type": "code",
   "execution_count": 2,
   "id": "76dc877e",
   "metadata": {},
   "outputs": [],
   "source": [
    "# libraries\n",
    "import pandas as pd"
   ]
  },
  {
   "cell_type": "markdown",
   "id": "101f95af",
   "metadata": {},
   "source": [
    "'''\n",
    "Looking at the different datasets given, I don't believe that the Session dataset is necessary to add because Device type \n",
    "and Duration of the Users isn't important to understanding content creation. The Location dataset I believe isn't relevant \n",
    "either, especially since it is just the address and not the Country/State/City.\n",
    "\n",
    "Now that I know which datasets I'm not using, I can now clean the datasets I know I will use.\n",
    "\n",
    "The first thing I notice is that the User and Profile datasets can be merged together since the data represents the same thing.\n",
    "'''"
   ]
  },
  {
   "cell_type": "markdown",
   "id": "6346427d",
   "metadata": {},
   "source": [
    "Users and Profiles Datasets:"
   ]
  },
  {
   "cell_type": "code",
   "execution_count": 3,
   "id": "9c703c2a",
   "metadata": {},
   "outputs": [
    {
     "data": {
      "text/html": [
       "<div>\n",
       "<style scoped>\n",
       "    .dataframe tbody tr th:only-of-type {\n",
       "        vertical-align: middle;\n",
       "    }\n",
       "\n",
       "    .dataframe tbody tr th {\n",
       "        vertical-align: top;\n",
       "    }\n",
       "\n",
       "    .dataframe thead th {\n",
       "        text-align: right;\n",
       "    }\n",
       "</style>\n",
       "<table border=\"1\" class=\"dataframe\">\n",
       "  <thead>\n",
       "    <tr style=\"text-align: right;\">\n",
       "      <th></th>\n",
       "      <th>User ID</th>\n",
       "      <th>Name</th>\n",
       "      <th>Email</th>\n",
       "    </tr>\n",
       "  </thead>\n",
       "  <tbody>\n",
       "    <tr>\n",
       "      <th>0</th>\n",
       "      <td>4c731e48-0377-4d7d-b4c8-b2174b774ed8</td>\n",
       "      <td>Gary Hill</td>\n",
       "      <td>GHbnuothhymw</td>\n",
       "    </tr>\n",
       "    <tr>\n",
       "      <th>1</th>\n",
       "      <td>95258c36-5b6b-4591-85ee-0c43f503c1d5</td>\n",
       "      <td>Michael Deering</td>\n",
       "      <td>MD@gmail.com</td>\n",
       "    </tr>\n",
       "    <tr>\n",
       "      <th>2</th>\n",
       "      <td>a8229d24-f219-4930-a382-24049a8f73bb</td>\n",
       "      <td>Richard Bain</td>\n",
       "      <td>RB@gmail.com</td>\n",
       "    </tr>\n",
       "  </tbody>\n",
       "</table>\n",
       "</div>"
      ],
      "text/plain": [
       "                                User ID             Name         Email\n",
       "0  4c731e48-0377-4d7d-b4c8-b2174b774ed8        Gary Hill  GHbnuothhymw\n",
       "1  95258c36-5b6b-4591-85ee-0c43f503c1d5  Michael Deering  MD@gmail.com\n",
       "2  a8229d24-f219-4930-a382-24049a8f73bb     Richard Bain  RB@gmail.com"
      ]
     },
     "execution_count": 3,
     "metadata": {},
     "output_type": "execute_result"
    }
   ],
   "source": [
    "# read file and convert to pandas dataframe\n",
    "filename = r\"C:\\Users\\Gallo\\Downloads\\AccentureDataAnalystData/User.csv\"\n",
    "dataSetCsv = pd.read_csv(filename, index_col=0)\n",
    "user = pd.DataFrame(dataSetCsv)\n",
    "\n",
    "user.head(3)"
   ]
  },
  {
   "cell_type": "code",
   "execution_count": 4,
   "id": "8ddedfe4",
   "metadata": {},
   "outputs": [
    {
     "data": {
      "text/html": [
       "<div>\n",
       "<style scoped>\n",
       "    .dataframe tbody tr th:only-of-type {\n",
       "        vertical-align: middle;\n",
       "    }\n",
       "\n",
       "    .dataframe tbody tr th {\n",
       "        vertical-align: top;\n",
       "    }\n",
       "\n",
       "    .dataframe thead th {\n",
       "        text-align: right;\n",
       "    }\n",
       "</style>\n",
       "<table border=\"1\" class=\"dataframe\">\n",
       "  <thead>\n",
       "    <tr style=\"text-align: right;\">\n",
       "      <th></th>\n",
       "      <th>User ID</th>\n",
       "      <th>Interests</th>\n",
       "      <th>Age</th>\n",
       "    </tr>\n",
       "  </thead>\n",
       "  <tbody>\n",
       "    <tr>\n",
       "      <th>0</th>\n",
       "      <td>4c731e48-0377-4d7d-b4c8-b2174b774ed8</td>\n",
       "      <td>[0, 1]</td>\n",
       "      <td>41</td>\n",
       "    </tr>\n",
       "    <tr>\n",
       "      <th>1</th>\n",
       "      <td>95258c36-5b6b-4591-85ee-0c43f503c1d5</td>\n",
       "      <td>['tennis']</td>\n",
       "      <td>23</td>\n",
       "    </tr>\n",
       "    <tr>\n",
       "      <th>2</th>\n",
       "      <td>a8229d24-f219-4930-a382-24049a8f73bb</td>\n",
       "      <td>['fitness', 'cooking', 'animals', 'travel']</td>\n",
       "      <td>25</td>\n",
       "    </tr>\n",
       "  </tbody>\n",
       "</table>\n",
       "</div>"
      ],
      "text/plain": [
       "                                User ID  \\\n",
       "0  4c731e48-0377-4d7d-b4c8-b2174b774ed8   \n",
       "1  95258c36-5b6b-4591-85ee-0c43f503c1d5   \n",
       "2  a8229d24-f219-4930-a382-24049a8f73bb   \n",
       "\n",
       "                                     Interests  Age  \n",
       "0                                       [0, 1]   41  \n",
       "1                                   ['tennis']   23  \n",
       "2  ['fitness', 'cooking', 'animals', 'travel']   25  "
      ]
     },
     "execution_count": 4,
     "metadata": {},
     "output_type": "execute_result"
    }
   ],
   "source": [
    "# read file and convert to pandas dataframe\n",
    "filename = r\"C:\\Users\\Gallo\\Downloads\\AccentureDataAnalystData/Profile.csv\"\n",
    "dataSetCsv = pd.read_csv(filename, index_col=0)\n",
    "profile = pd.DataFrame(dataSetCsv)\n",
    "\n",
    "profile.head(3)"
   ]
  },
  {
   "cell_type": "code",
   "execution_count": 5,
   "id": "f2981106",
   "metadata": {},
   "outputs": [
    {
     "name": "stdout",
     "output_type": "stream",
     "text": [
      "(500, 3)\n",
      "(500, 3)\n"
     ]
    }
   ],
   "source": [
    "# checking shape of dataset\n",
    "print(user.shape)\n",
    "print(profile.shape)"
   ]
  },
  {
   "cell_type": "code",
   "execution_count": 6,
   "id": "e86d2553",
   "metadata": {},
   "outputs": [
    {
     "data": {
      "text/plain": [
       "User ID    False\n",
       "Name       False\n",
       "Email      False\n",
       "dtype: bool"
      ]
     },
     "execution_count": 6,
     "metadata": {},
     "output_type": "execute_result"
    }
   ],
   "source": [
    "# checking to see if any columns have missing data\n",
    "user.isnull().any()"
   ]
  },
  {
   "cell_type": "code",
   "execution_count": 7,
   "id": "a602bfd7",
   "metadata": {},
   "outputs": [
    {
     "data": {
      "text/plain": [
       "User ID      False\n",
       "Interests    False\n",
       "Age          False\n",
       "dtype: bool"
      ]
     },
     "execution_count": 7,
     "metadata": {},
     "output_type": "execute_result"
    }
   ],
   "source": [
    "# checking to see if any columns have missing data\n",
    "profile.isnull().any()"
   ]
  },
  {
   "cell_type": "markdown",
   "id": "3c74af13",
   "metadata": {},
   "source": [
    "No missing data!"
   ]
  },
  {
   "cell_type": "code",
   "execution_count": 8,
   "id": "2fa3836c",
   "metadata": {},
   "outputs": [
    {
     "data": {
      "text/html": [
       "<div>\n",
       "<style scoped>\n",
       "    .dataframe tbody tr th:only-of-type {\n",
       "        vertical-align: middle;\n",
       "    }\n",
       "\n",
       "    .dataframe tbody tr th {\n",
       "        vertical-align: top;\n",
       "    }\n",
       "\n",
       "    .dataframe thead th {\n",
       "        text-align: right;\n",
       "    }\n",
       "</style>\n",
       "<table border=\"1\" class=\"dataframe\">\n",
       "  <thead>\n",
       "    <tr style=\"text-align: right;\">\n",
       "      <th></th>\n",
       "      <th>User ID</th>\n",
       "      <th>Name</th>\n",
       "      <th>Email</th>\n",
       "      <th>Interests</th>\n",
       "      <th>Age</th>\n",
       "    </tr>\n",
       "  </thead>\n",
       "  <tbody>\n",
       "    <tr>\n",
       "      <th>0</th>\n",
       "      <td>4c731e48-0377-4d7d-b4c8-b2174b774ed8</td>\n",
       "      <td>Gary Hill</td>\n",
       "      <td>GHbnuothhymw</td>\n",
       "      <td>[0, 1]</td>\n",
       "      <td>41</td>\n",
       "    </tr>\n",
       "    <tr>\n",
       "      <th>1</th>\n",
       "      <td>95258c36-5b6b-4591-85ee-0c43f503c1d5</td>\n",
       "      <td>Michael Deering</td>\n",
       "      <td>MD@gmail.com</td>\n",
       "      <td>['tennis']</td>\n",
       "      <td>23</td>\n",
       "    </tr>\n",
       "    <tr>\n",
       "      <th>2</th>\n",
       "      <td>a8229d24-f219-4930-a382-24049a8f73bb</td>\n",
       "      <td>Richard Bain</td>\n",
       "      <td>RB@gmail.com</td>\n",
       "      <td>['fitness', 'cooking', 'animals', 'travel']</td>\n",
       "      <td>25</td>\n",
       "    </tr>\n",
       "    <tr>\n",
       "      <th>3</th>\n",
       "      <td>8f41c07f-db4f-44f3-ae81-1f99cee047eb</td>\n",
       "      <td>Kristi Mccarthy</td>\n",
       "      <td>KM@gmail.com</td>\n",
       "      <td>['technology', 'culture', 'veganism']</td>\n",
       "      <td>2</td>\n",
       "    </tr>\n",
       "    <tr>\n",
       "      <th>4</th>\n",
       "      <td>3af8d78b-55c4-4ac0-8161-7cc3f6ec11c9</td>\n",
       "      <td>Betty Ellis</td>\n",
       "      <td>BE@gmail.com</td>\n",
       "      <td>['education']</td>\n",
       "      <td>44</td>\n",
       "    </tr>\n",
       "  </tbody>\n",
       "</table>\n",
       "</div>"
      ],
      "text/plain": [
       "                                User ID             Name         Email  \\\n",
       "0  4c731e48-0377-4d7d-b4c8-b2174b774ed8        Gary Hill  GHbnuothhymw   \n",
       "1  95258c36-5b6b-4591-85ee-0c43f503c1d5  Michael Deering  MD@gmail.com   \n",
       "2  a8229d24-f219-4930-a382-24049a8f73bb     Richard Bain  RB@gmail.com   \n",
       "3  8f41c07f-db4f-44f3-ae81-1f99cee047eb  Kristi Mccarthy  KM@gmail.com   \n",
       "4  3af8d78b-55c4-4ac0-8161-7cc3f6ec11c9      Betty Ellis  BE@gmail.com   \n",
       "\n",
       "                                     Interests  Age  \n",
       "0                                       [0, 1]   41  \n",
       "1                                   ['tennis']   23  \n",
       "2  ['fitness', 'cooking', 'animals', 'travel']   25  \n",
       "3        ['technology', 'culture', 'veganism']    2  \n",
       "4                                ['education']   44  "
      ]
     },
     "execution_count": 8,
     "metadata": {},
     "output_type": "execute_result"
    }
   ],
   "source": [
    "# Join the datasets\n",
    "user_profile = user.join(profile.set_index(['User ID']), on=['User ID'])\n",
    "user_profile.head()"
   ]
  },
  {
   "cell_type": "code",
   "execution_count": 9,
   "id": "0e4b95e2",
   "metadata": {},
   "outputs": [
    {
     "data": {
      "text/plain": [
       "(500, 5)"
      ]
     },
     "execution_count": 9,
     "metadata": {},
     "output_type": "execute_result"
    }
   ],
   "source": [
    "# checking shape again to make sure the amount of rows stayed the same\n",
    "user_profile.shape"
   ]
  },
  {
   "cell_type": "code",
   "execution_count": 10,
   "id": "bceae126",
   "metadata": {},
   "outputs": [
    {
     "data": {
      "text/plain": [
       "User ID      object\n",
       "Name         object\n",
       "Email        object\n",
       "Interests    object\n",
       "Age           int64\n",
       "dtype: object"
      ]
     },
     "execution_count": 10,
     "metadata": {},
     "output_type": "execute_result"
    }
   ],
   "source": [
    "# checking dtypes\n",
    "user_profile.dtypes"
   ]
  },
  {
   "cell_type": "code",
   "execution_count": 11,
   "id": "5cf761c1",
   "metadata": {},
   "outputs": [],
   "source": [
    "user_profile.drop(['Name', 'Email'], axis=1, inplace=True)"
   ]
  },
  {
   "cell_type": "code",
   "execution_count": 12,
   "id": "a19f80cf",
   "metadata": {},
   "outputs": [
    {
     "data": {
      "text/html": [
       "<div>\n",
       "<style scoped>\n",
       "    .dataframe tbody tr th:only-of-type {\n",
       "        vertical-align: middle;\n",
       "    }\n",
       "\n",
       "    .dataframe tbody tr th {\n",
       "        vertical-align: top;\n",
       "    }\n",
       "\n",
       "    .dataframe thead th {\n",
       "        text-align: right;\n",
       "    }\n",
       "</style>\n",
       "<table border=\"1\" class=\"dataframe\">\n",
       "  <thead>\n",
       "    <tr style=\"text-align: right;\">\n",
       "      <th></th>\n",
       "      <th>User ID</th>\n",
       "      <th>Interests</th>\n",
       "      <th>Age</th>\n",
       "    </tr>\n",
       "  </thead>\n",
       "  <tbody>\n",
       "    <tr>\n",
       "      <th>0</th>\n",
       "      <td>4c731e48-0377-4d7d-b4c8-b2174b774ed8</td>\n",
       "      <td>[0, 1]</td>\n",
       "      <td>41</td>\n",
       "    </tr>\n",
       "    <tr>\n",
       "      <th>1</th>\n",
       "      <td>95258c36-5b6b-4591-85ee-0c43f503c1d5</td>\n",
       "      <td>['tennis']</td>\n",
       "      <td>23</td>\n",
       "    </tr>\n",
       "    <tr>\n",
       "      <th>2</th>\n",
       "      <td>a8229d24-f219-4930-a382-24049a8f73bb</td>\n",
       "      <td>['fitness', 'cooking', 'animals', 'travel']</td>\n",
       "      <td>25</td>\n",
       "    </tr>\n",
       "  </tbody>\n",
       "</table>\n",
       "</div>"
      ],
      "text/plain": [
       "                                User ID  \\\n",
       "0  4c731e48-0377-4d7d-b4c8-b2174b774ed8   \n",
       "1  95258c36-5b6b-4591-85ee-0c43f503c1d5   \n",
       "2  a8229d24-f219-4930-a382-24049a8f73bb   \n",
       "\n",
       "                                     Interests  Age  \n",
       "0                                       [0, 1]   41  \n",
       "1                                   ['tennis']   23  \n",
       "2  ['fitness', 'cooking', 'animals', 'travel']   25  "
      ]
     },
     "execution_count": 12,
     "metadata": {},
     "output_type": "execute_result"
    }
   ],
   "source": [
    "user_profile.head(3)"
   ]
  },
  {
   "cell_type": "markdown",
   "id": "2477f190",
   "metadata": {},
   "source": [
    "Content Dataset:"
   ]
  },
  {
   "cell_type": "code",
   "execution_count": 13,
   "id": "9b017538",
   "metadata": {},
   "outputs": [
    {
     "data": {
      "text/html": [
       "<div>\n",
       "<style scoped>\n",
       "    .dataframe tbody tr th:only-of-type {\n",
       "        vertical-align: middle;\n",
       "    }\n",
       "\n",
       "    .dataframe tbody tr th {\n",
       "        vertical-align: top;\n",
       "    }\n",
       "\n",
       "    .dataframe thead th {\n",
       "        text-align: right;\n",
       "    }\n",
       "</style>\n",
       "<table border=\"1\" class=\"dataframe\">\n",
       "  <thead>\n",
       "    <tr style=\"text-align: right;\">\n",
       "      <th></th>\n",
       "      <th>Content ID</th>\n",
       "      <th>User ID</th>\n",
       "      <th>Type</th>\n",
       "      <th>Category</th>\n",
       "      <th>URL</th>\n",
       "    </tr>\n",
       "  </thead>\n",
       "  <tbody>\n",
       "    <tr>\n",
       "      <th>0</th>\n",
       "      <td>97522e57-d9ab-4bd6-97bf-c24d952602d2</td>\n",
       "      <td>8d3cd87d-8a31-4935-9a4f-b319bfe05f31</td>\n",
       "      <td>photo</td>\n",
       "      <td>Studying</td>\n",
       "      <td>https://socialbuzz.cdn.com/content/storage/975...</td>\n",
       "    </tr>\n",
       "    <tr>\n",
       "      <th>1</th>\n",
       "      <td>9f737e0a-3cdd-4d29-9d24-753f4e3be810</td>\n",
       "      <td>beb1f34e-7870-46d6-9fc7-2e12eb83ce43</td>\n",
       "      <td>photo</td>\n",
       "      <td>healthy eating</td>\n",
       "      <td>https://socialbuzz.cdn.com/content/storage/9f7...</td>\n",
       "    </tr>\n",
       "    <tr>\n",
       "      <th>2</th>\n",
       "      <td>230c4e4d-70c3-461d-b42c-ec09396efb3f</td>\n",
       "      <td>a5c65404-5894-4b87-82f2-d787cbee86b4</td>\n",
       "      <td>photo</td>\n",
       "      <td>healthy eating</td>\n",
       "      <td>https://socialbuzz.cdn.com/content/storage/230...</td>\n",
       "    </tr>\n",
       "  </tbody>\n",
       "</table>\n",
       "</div>"
      ],
      "text/plain": [
       "                             Content ID                               User ID  \\\n",
       "0  97522e57-d9ab-4bd6-97bf-c24d952602d2  8d3cd87d-8a31-4935-9a4f-b319bfe05f31   \n",
       "1  9f737e0a-3cdd-4d29-9d24-753f4e3be810  beb1f34e-7870-46d6-9fc7-2e12eb83ce43   \n",
       "2  230c4e4d-70c3-461d-b42c-ec09396efb3f  a5c65404-5894-4b87-82f2-d787cbee86b4   \n",
       "\n",
       "    Type        Category                                                URL  \n",
       "0  photo        Studying  https://socialbuzz.cdn.com/content/storage/975...  \n",
       "1  photo  healthy eating  https://socialbuzz.cdn.com/content/storage/9f7...  \n",
       "2  photo  healthy eating  https://socialbuzz.cdn.com/content/storage/230...  "
      ]
     },
     "execution_count": 13,
     "metadata": {},
     "output_type": "execute_result"
    }
   ],
   "source": [
    "# read file and convert to pandas dataframe\n",
    "filename = r\"C:\\Users\\Gallo\\Downloads\\AccentureDataAnalystData/Content.csv\"\n",
    "dataSetCsv = pd.read_csv(filename, index_col=0)\n",
    "content = pd.DataFrame(dataSetCsv)\n",
    "\n",
    "content.head(3)"
   ]
  },
  {
   "cell_type": "code",
   "execution_count": 14,
   "id": "5c9c5b41",
   "metadata": {},
   "outputs": [
    {
     "data": {
      "text/plain": [
       "Content ID    False\n",
       "User ID       False\n",
       "Type          False\n",
       "Category      False\n",
       "URL            True\n",
       "dtype: bool"
      ]
     },
     "execution_count": 14,
     "metadata": {},
     "output_type": "execute_result"
    }
   ],
   "source": [
    "# checking to see if any columns have missing data\n",
    "content.isnull().any()"
   ]
  },
  {
   "cell_type": "code",
   "execution_count": 15,
   "id": "8ebe8657",
   "metadata": {},
   "outputs": [
    {
     "name": "stdout",
     "output_type": "stream",
     "text": [
      "Ammount of missing rows:  199\n",
      "Amount of non-missing rows:  801\n",
      "Total percent missing:  19.900000000000002\n"
     ]
    }
   ],
   "source": [
    "# URL column has missing data, let's see how much is missing\n",
    "missing = content['URL'].isnull().sum()\n",
    "not_missing = content['URL'].notnull().sum()\n",
    "\n",
    "percent_missing = missing/(missing  + not_missing) * 100\n",
    "\n",
    "print('Ammount of missing rows: ', missing)\n",
    "print('Amount of non-missing rows: ', not_missing)\n",
    "print('Total percent missing: ', percent_missing)"
   ]
  },
  {
   "cell_type": "markdown",
   "id": "e0a31b1b",
   "metadata": {},
   "source": [
    "That's about 20% of our data. Since URL isn't a column I believe we need, I think it is best to drop the column completely. I will also drop the User ID column since that is not relevent data either"
   ]
  },
  {
   "cell_type": "code",
   "execution_count": 16,
   "id": "bdb98fa2",
   "metadata": {},
   "outputs": [],
   "source": [
    "# dropping URL columns\n",
    "content = content.drop(['URL', 'User ID'], axis=1)\n",
    "#content.head(3)"
   ]
  },
  {
   "cell_type": "code",
   "execution_count": 17,
   "id": "bf3d4609",
   "metadata": {},
   "outputs": [
    {
     "data": {
      "text/html": [
       "<div>\n",
       "<style scoped>\n",
       "    .dataframe tbody tr th:only-of-type {\n",
       "        vertical-align: middle;\n",
       "    }\n",
       "\n",
       "    .dataframe tbody tr th {\n",
       "        vertical-align: top;\n",
       "    }\n",
       "\n",
       "    .dataframe thead th {\n",
       "        text-align: right;\n",
       "    }\n",
       "</style>\n",
       "<table border=\"1\" class=\"dataframe\">\n",
       "  <thead>\n",
       "    <tr style=\"text-align: right;\">\n",
       "      <th></th>\n",
       "      <th>Content ID</th>\n",
       "      <th>Type</th>\n",
       "      <th>Category</th>\n",
       "    </tr>\n",
       "  </thead>\n",
       "  <tbody>\n",
       "    <tr>\n",
       "      <th>0</th>\n",
       "      <td>97522e57-d9ab-4bd6-97bf-c24d952602d2</td>\n",
       "      <td>photo</td>\n",
       "      <td>Studying</td>\n",
       "    </tr>\n",
       "    <tr>\n",
       "      <th>1</th>\n",
       "      <td>9f737e0a-3cdd-4d29-9d24-753f4e3be810</td>\n",
       "      <td>photo</td>\n",
       "      <td>healthy eating</td>\n",
       "    </tr>\n",
       "    <tr>\n",
       "      <th>2</th>\n",
       "      <td>230c4e4d-70c3-461d-b42c-ec09396efb3f</td>\n",
       "      <td>photo</td>\n",
       "      <td>healthy eating</td>\n",
       "    </tr>\n",
       "    <tr>\n",
       "      <th>3</th>\n",
       "      <td>356fff80-da4d-4785-9f43-bc1261031dc6</td>\n",
       "      <td>photo</td>\n",
       "      <td>technology</td>\n",
       "    </tr>\n",
       "    <tr>\n",
       "      <th>4</th>\n",
       "      <td>01ab84dd-6364-4236-abbb-3f237db77180</td>\n",
       "      <td>video</td>\n",
       "      <td>food</td>\n",
       "    </tr>\n",
       "  </tbody>\n",
       "</table>\n",
       "</div>"
      ],
      "text/plain": [
       "                             Content ID   Type        Category\n",
       "0  97522e57-d9ab-4bd6-97bf-c24d952602d2  photo        Studying\n",
       "1  9f737e0a-3cdd-4d29-9d24-753f4e3be810  photo  healthy eating\n",
       "2  230c4e4d-70c3-461d-b42c-ec09396efb3f  photo  healthy eating\n",
       "3  356fff80-da4d-4785-9f43-bc1261031dc6  photo      technology\n",
       "4  01ab84dd-6364-4236-abbb-3f237db77180  video            food"
      ]
     },
     "execution_count": 17,
     "metadata": {},
     "output_type": "execute_result"
    }
   ],
   "source": [
    "content.head()"
   ]
  },
  {
   "cell_type": "markdown",
   "id": "d3c3f5b0",
   "metadata": {},
   "source": [
    "I can also delete the User ID column since it doesn't have an effect on content"
   ]
  },
  {
   "cell_type": "markdown",
   "id": "dc4cb0d3",
   "metadata": {},
   "source": [
    "Reactions Dataset:"
   ]
  },
  {
   "cell_type": "code",
   "execution_count": 18,
   "id": "ab93e7ef",
   "metadata": {},
   "outputs": [
    {
     "data": {
      "text/html": [
       "<div>\n",
       "<style scoped>\n",
       "    .dataframe tbody tr th:only-of-type {\n",
       "        vertical-align: middle;\n",
       "    }\n",
       "\n",
       "    .dataframe tbody tr th {\n",
       "        vertical-align: top;\n",
       "    }\n",
       "\n",
       "    .dataframe thead th {\n",
       "        text-align: right;\n",
       "    }\n",
       "</style>\n",
       "<table border=\"1\" class=\"dataframe\">\n",
       "  <thead>\n",
       "    <tr style=\"text-align: right;\">\n",
       "      <th></th>\n",
       "      <th>Content ID</th>\n",
       "      <th>User ID</th>\n",
       "      <th>Type</th>\n",
       "      <th>Datetime</th>\n",
       "    </tr>\n",
       "  </thead>\n",
       "  <tbody>\n",
       "    <tr>\n",
       "      <th>0</th>\n",
       "      <td>97522e57-d9ab-4bd6-97bf-c24d952602d2</td>\n",
       "      <td>NaN</td>\n",
       "      <td>NaN</td>\n",
       "      <td>2021-04-22 15:17:15</td>\n",
       "    </tr>\n",
       "    <tr>\n",
       "      <th>1</th>\n",
       "      <td>97522e57-d9ab-4bd6-97bf-c24d952602d2</td>\n",
       "      <td>5d454588-283d-459d-915d-c48a2cb4c27f</td>\n",
       "      <td>disgust</td>\n",
       "      <td>2020-11-07 09:43:50</td>\n",
       "    </tr>\n",
       "    <tr>\n",
       "      <th>2</th>\n",
       "      <td>97522e57-d9ab-4bd6-97bf-c24d952602d2</td>\n",
       "      <td>92b87fa5-f271-43e0-af66-84fac21052e6</td>\n",
       "      <td>dislike</td>\n",
       "      <td>2021-06-17 12:22:51</td>\n",
       "    </tr>\n",
       "  </tbody>\n",
       "</table>\n",
       "</div>"
      ],
      "text/plain": [
       "                             Content ID                               User ID  \\\n",
       "0  97522e57-d9ab-4bd6-97bf-c24d952602d2                                   NaN   \n",
       "1  97522e57-d9ab-4bd6-97bf-c24d952602d2  5d454588-283d-459d-915d-c48a2cb4c27f   \n",
       "2  97522e57-d9ab-4bd6-97bf-c24d952602d2  92b87fa5-f271-43e0-af66-84fac21052e6   \n",
       "\n",
       "      Type             Datetime  \n",
       "0      NaN  2021-04-22 15:17:15  \n",
       "1  disgust  2020-11-07 09:43:50  \n",
       "2  dislike  2021-06-17 12:22:51  "
      ]
     },
     "execution_count": 18,
     "metadata": {},
     "output_type": "execute_result"
    }
   ],
   "source": [
    "# read file and convert to pandas dataframe\n",
    "filename = r\"C:\\Users\\Gallo\\Downloads\\AccentureDataAnalystData/Reactions.csv\"\n",
    "dataSetCsv = pd.read_csv(filename, index_col=0)\n",
    "reaction = pd.DataFrame(dataSetCsv)\n",
    "\n",
    "reaction.head(3)"
   ]
  },
  {
   "cell_type": "code",
   "execution_count": 19,
   "id": "16a37cf0",
   "metadata": {},
   "outputs": [
    {
     "data": {
      "text/plain": [
       "(25553, 4)"
      ]
     },
     "execution_count": 19,
     "metadata": {},
     "output_type": "execute_result"
    }
   ],
   "source": [
    "reaction.shape"
   ]
  },
  {
   "cell_type": "code",
   "execution_count": 20,
   "id": "aabb9a5f",
   "metadata": {},
   "outputs": [
    {
     "data": {
      "text/plain": [
       "Content ID    object\n",
       "User ID       object\n",
       "Type          object\n",
       "Datetime      object\n",
       "dtype: object"
      ]
     },
     "execution_count": 20,
     "metadata": {},
     "output_type": "execute_result"
    }
   ],
   "source": [
    "# checking dtypes in dataset\n",
    "reaction.dtypes"
   ]
  },
  {
   "cell_type": "markdown",
   "id": "239d1e5a",
   "metadata": {},
   "source": [
    "There is a problem with the datatype of the DateTime column. It should be a datetime data types, not an object datatype."
   ]
  },
  {
   "cell_type": "code",
   "execution_count": 21,
   "id": "ea98b913",
   "metadata": {},
   "outputs": [],
   "source": [
    "# change Datetime dtype from object to datetime by parsing datetime\n",
    "# date as: year(4)-month-date\n",
    "reaction['Datetime'] = pd.to_datetime(reaction['Datetime'], format='%Y-%m-%d %H:%M:%S')"
   ]
  },
  {
   "cell_type": "code",
   "execution_count": 22,
   "id": "5f61d633",
   "metadata": {},
   "outputs": [
    {
     "data": {
      "text/plain": [
       "dtype('<M8[ns]')"
      ]
     },
     "execution_count": 22,
     "metadata": {},
     "output_type": "execute_result"
    }
   ],
   "source": [
    "reaction['Datetime'].dtype"
   ]
  },
  {
   "cell_type": "code",
   "execution_count": 23,
   "id": "d604cf5e",
   "metadata": {},
   "outputs": [
    {
     "data": {
      "text/plain": [
       "Content ID    False\n",
       "User ID        True\n",
       "Type           True\n",
       "Datetime      False\n",
       "dtype: bool"
      ]
     },
     "execution_count": 23,
     "metadata": {},
     "output_type": "execute_result"
    }
   ],
   "source": [
    "reaction.isnull().any()"
   ]
  },
  {
   "cell_type": "markdown",
   "id": "9c074b6e",
   "metadata": {},
   "source": [
    "There are two columns missing: User ID and Type both have columns missing. Let's see  how much data is missing"
   ]
  },
  {
   "cell_type": "code",
   "execution_count": 24,
   "id": "fb9fc33c",
   "metadata": {},
   "outputs": [
    {
     "name": "stdout",
     "output_type": "stream",
     "text": [
      "3019\n",
      "22534\n",
      "Percentage of missing data in Users ID column:  13.397532617378182\n"
     ]
    }
   ],
   "source": [
    "# calculate missing data\n",
    "missing_reaction_UserID = reaction['User ID'].isnull().sum()\n",
    "total_reaction_UserID = reaction['User ID'].count()\n",
    "\n",
    "percentage_missing_UserID = (missing_reaction_UserID / total_reaction_UserID) * 100\n",
    "\n",
    "print(missing_reaction_UserID)\n",
    "print(total_reaction_UserID)\n",
    "print('Percentage of missing data in Users ID column: ', percentage_missing_UserID.sum())"
   ]
  },
  {
   "cell_type": "code",
   "execution_count": 25,
   "id": "a13b87f1",
   "metadata": {},
   "outputs": [
    {
     "name": "stdout",
     "output_type": "stream",
     "text": [
      "980\n",
      "24573\n",
      "Percentage of missing data in Users ID column:  3.988117039026574\n"
     ]
    }
   ],
   "source": [
    "# calculate missing data\n",
    "missing_reaction_Type = reaction['Type'].isnull().sum()\n",
    "total_reaction_Type = reaction['Type'].count()\n",
    "\n",
    "percentage_missing_Type = (missing_reaction_Type / total_reaction_Type) * 100\n",
    "\n",
    "print(missing_reaction_Type)\n",
    "print(total_reaction_Type)\n",
    "print('Percentage of missing data in Users ID column: ', percentage_missing_Type.sum())"
   ]
  },
  {
   "cell_type": "code",
   "execution_count": 26,
   "id": "2bb93975",
   "metadata": {},
   "outputs": [
    {
     "data": {
      "text/plain": [
       "0         True\n",
       "1        False\n",
       "2        False\n",
       "3        False\n",
       "4        False\n",
       "         ...  \n",
       "25548    False\n",
       "25549    False\n",
       "25550     True\n",
       "25551    False\n",
       "25552    False\n",
       "Name: User ID, Length: 25553, dtype: bool"
      ]
     },
     "execution_count": 26,
     "metadata": {},
     "output_type": "execute_result"
    }
   ],
   "source": [
    "reaction['User ID'].isnull()"
   ]
  },
  {
   "cell_type": "markdown",
   "id": "1ca11056",
   "metadata": {},
   "source": [
    "Since UserID isn't as important as the content itself, I can fill in those rows with the User ID of either the column after it."
   ]
  },
  {
   "cell_type": "code",
   "execution_count": 27,
   "id": "5ba420d1",
   "metadata": {},
   "outputs": [],
   "source": [
    "# Fill User_ID with the User_ID of the User below the empty row\n",
    "reaction['User ID'] = reaction['User ID'].fillna(method='bfill', axis=0)"
   ]
  },
  {
   "cell_type": "code",
   "execution_count": 28,
   "id": "9f026390",
   "metadata": {},
   "outputs": [
    {
     "data": {
      "text/plain": [
       "False"
      ]
     },
     "execution_count": 28,
     "metadata": {},
     "output_type": "execute_result"
    }
   ],
   "source": [
    "reaction['User ID'].isnull().any()"
   ]
  },
  {
   "cell_type": "markdown",
   "id": "880b3730",
   "metadata": {},
   "source": [
    "With the Type data, which is important because it tells the client which content is most popular, I am conflicted by how I should handle this data. If i change the data by filling it with the most frequent, it might change the data significantly and change the way the data is viewed, however if I drop the rows, that's a bit of data we are loosing, but is it worth keeping data that would be a guess at best?"
   ]
  },
  {
   "cell_type": "code",
   "execution_count": 29,
   "id": "0ba49efe",
   "metadata": {},
   "outputs": [
    {
     "data": {
      "text/plain": [
       "array([nan, 'disgust', 'dislike', 'scared', 'interested', 'peeking',\n",
       "       'cherish', 'hate', 'love', 'indifferent', 'super love',\n",
       "       'intrigued', 'worried', 'like', 'heart', 'want', 'adore'],\n",
       "      dtype=object)"
      ]
     },
     "execution_count": 29,
     "metadata": {},
     "output_type": "execute_result"
    }
   ],
   "source": [
    "reaction['Type'].unique()"
   ]
  },
  {
   "cell_type": "code",
   "execution_count": 30,
   "id": "8e98369a",
   "metadata": {},
   "outputs": [],
   "source": [
    "# dropping all rows with missing/nan values in Type column\n",
    "reaction.dropna(axis=0, how='any', subset=['Type'], inplace=True)"
   ]
  },
  {
   "cell_type": "code",
   "execution_count": 31,
   "id": "01c5124b",
   "metadata": {},
   "outputs": [
    {
     "data": {
      "text/plain": [
       "False"
      ]
     },
     "execution_count": 31,
     "metadata": {},
     "output_type": "execute_result"
    }
   ],
   "source": [
    "reaction['Type'].isnull().any()"
   ]
  },
  {
   "cell_type": "code",
   "execution_count": 32,
   "id": "6513afc4",
   "metadata": {},
   "outputs": [
    {
     "data": {
      "text/html": [
       "<div>\n",
       "<style scoped>\n",
       "    .dataframe tbody tr th:only-of-type {\n",
       "        vertical-align: middle;\n",
       "    }\n",
       "\n",
       "    .dataframe tbody tr th {\n",
       "        vertical-align: top;\n",
       "    }\n",
       "\n",
       "    .dataframe thead th {\n",
       "        text-align: right;\n",
       "    }\n",
       "</style>\n",
       "<table border=\"1\" class=\"dataframe\">\n",
       "  <thead>\n",
       "    <tr style=\"text-align: right;\">\n",
       "      <th></th>\n",
       "      <th>Content ID</th>\n",
       "      <th>User ID</th>\n",
       "      <th>Type</th>\n",
       "      <th>Datetime</th>\n",
       "    </tr>\n",
       "  </thead>\n",
       "  <tbody>\n",
       "    <tr>\n",
       "      <th>1</th>\n",
       "      <td>97522e57-d9ab-4bd6-97bf-c24d952602d2</td>\n",
       "      <td>5d454588-283d-459d-915d-c48a2cb4c27f</td>\n",
       "      <td>disgust</td>\n",
       "      <td>2020-11-07 09:43:50</td>\n",
       "    </tr>\n",
       "    <tr>\n",
       "      <th>2</th>\n",
       "      <td>97522e57-d9ab-4bd6-97bf-c24d952602d2</td>\n",
       "      <td>92b87fa5-f271-43e0-af66-84fac21052e6</td>\n",
       "      <td>dislike</td>\n",
       "      <td>2021-06-17 12:22:51</td>\n",
       "    </tr>\n",
       "    <tr>\n",
       "      <th>3</th>\n",
       "      <td>97522e57-d9ab-4bd6-97bf-c24d952602d2</td>\n",
       "      <td>163daa38-8b77-48c9-9af6-37a6c1447ac2</td>\n",
       "      <td>scared</td>\n",
       "      <td>2021-04-18 05:13:58</td>\n",
       "    </tr>\n",
       "    <tr>\n",
       "      <th>4</th>\n",
       "      <td>97522e57-d9ab-4bd6-97bf-c24d952602d2</td>\n",
       "      <td>34e8add9-0206-47fd-a501-037b994650a2</td>\n",
       "      <td>disgust</td>\n",
       "      <td>2021-01-06 19:13:01</td>\n",
       "    </tr>\n",
       "    <tr>\n",
       "      <th>5</th>\n",
       "      <td>97522e57-d9ab-4bd6-97bf-c24d952602d2</td>\n",
       "      <td>9b6d35f9-5e15-4cd0-a8d7-b1f3340e02c4</td>\n",
       "      <td>interested</td>\n",
       "      <td>2020-08-23 12:25:58</td>\n",
       "    </tr>\n",
       "  </tbody>\n",
       "</table>\n",
       "</div>"
      ],
      "text/plain": [
       "                             Content ID                               User ID  \\\n",
       "1  97522e57-d9ab-4bd6-97bf-c24d952602d2  5d454588-283d-459d-915d-c48a2cb4c27f   \n",
       "2  97522e57-d9ab-4bd6-97bf-c24d952602d2  92b87fa5-f271-43e0-af66-84fac21052e6   \n",
       "3  97522e57-d9ab-4bd6-97bf-c24d952602d2  163daa38-8b77-48c9-9af6-37a6c1447ac2   \n",
       "4  97522e57-d9ab-4bd6-97bf-c24d952602d2  34e8add9-0206-47fd-a501-037b994650a2   \n",
       "5  97522e57-d9ab-4bd6-97bf-c24d952602d2  9b6d35f9-5e15-4cd0-a8d7-b1f3340e02c4   \n",
       "\n",
       "         Type            Datetime  \n",
       "1     disgust 2020-11-07 09:43:50  \n",
       "2     dislike 2021-06-17 12:22:51  \n",
       "3      scared 2021-04-18 05:13:58  \n",
       "4     disgust 2021-01-06 19:13:01  \n",
       "5  interested 2020-08-23 12:25:58  "
      ]
     },
     "execution_count": 32,
     "metadata": {},
     "output_type": "execute_result"
    }
   ],
   "source": [
    "reaction.head()"
   ]
  },
  {
   "cell_type": "code",
   "execution_count": 33,
   "id": "933fec2f",
   "metadata": {},
   "outputs": [
    {
     "data": {
      "text/plain": [
       "(24573, 4)"
      ]
     },
     "execution_count": 33,
     "metadata": {},
     "output_type": "execute_result"
    }
   ],
   "source": [
    "reaction.shape"
   ]
  },
  {
   "cell_type": "markdown",
   "id": "549af721",
   "metadata": {},
   "source": [
    "Reaction Types Dataset:"
   ]
  },
  {
   "cell_type": "code",
   "execution_count": 34,
   "id": "6ee66609",
   "metadata": {},
   "outputs": [
    {
     "data": {
      "text/html": [
       "<div>\n",
       "<style scoped>\n",
       "    .dataframe tbody tr th:only-of-type {\n",
       "        vertical-align: middle;\n",
       "    }\n",
       "\n",
       "    .dataframe tbody tr th {\n",
       "        vertical-align: top;\n",
       "    }\n",
       "\n",
       "    .dataframe thead th {\n",
       "        text-align: right;\n",
       "    }\n",
       "</style>\n",
       "<table border=\"1\" class=\"dataframe\">\n",
       "  <thead>\n",
       "    <tr style=\"text-align: right;\">\n",
       "      <th></th>\n",
       "      <th>Type</th>\n",
       "      <th>Sentiment</th>\n",
       "      <th>Score</th>\n",
       "    </tr>\n",
       "  </thead>\n",
       "  <tbody>\n",
       "    <tr>\n",
       "      <th>0</th>\n",
       "      <td>heart</td>\n",
       "      <td>positive</td>\n",
       "      <td>60</td>\n",
       "    </tr>\n",
       "    <tr>\n",
       "      <th>1</th>\n",
       "      <td>want</td>\n",
       "      <td>positive</td>\n",
       "      <td>70</td>\n",
       "    </tr>\n",
       "    <tr>\n",
       "      <th>2</th>\n",
       "      <td>disgust</td>\n",
       "      <td>negative</td>\n",
       "      <td>0</td>\n",
       "    </tr>\n",
       "  </tbody>\n",
       "</table>\n",
       "</div>"
      ],
      "text/plain": [
       "      Type Sentiment  Score\n",
       "0    heart  positive     60\n",
       "1     want  positive     70\n",
       "2  disgust  negative      0"
      ]
     },
     "execution_count": 34,
     "metadata": {},
     "output_type": "execute_result"
    }
   ],
   "source": [
    "# read file and convert to pandas dataframe\n",
    "filename = r\"C:\\Users\\Gallo\\Downloads\\AccentureDataAnalystData/ReactionTypes.csv\"\n",
    "dataSetCsv = pd.read_csv(filename, index_col=0)\n",
    "reaction_types = pd.DataFrame(dataSetCsv)\n",
    "\n",
    "reaction_types.head(3)"
   ]
  },
  {
   "cell_type": "code",
   "execution_count": 35,
   "id": "298ec040",
   "metadata": {},
   "outputs": [
    {
     "data": {
      "text/plain": [
       "Type         False\n",
       "Sentiment    False\n",
       "Score        False\n",
       "dtype: bool"
      ]
     },
     "execution_count": 35,
     "metadata": {},
     "output_type": "execute_result"
    }
   ],
   "source": [
    "reaction_types.isnull().any()"
   ]
  },
  {
   "cell_type": "markdown",
   "id": "b225e135",
   "metadata": {},
   "source": [
    "There is no missing data and all data and colu,ms are needed here, so there's nothing to do with this dataset"
   ]
  },
  {
   "cell_type": "markdown",
   "id": "a1427f39",
   "metadata": {},
   "source": [
    "Now that are seperate datasets are cleaned and updated, I can now put all the datasets together into 1 dataset"
   ]
  },
  {
   "cell_type": "code",
   "execution_count": 36,
   "id": "cc8ca3be",
   "metadata": {},
   "outputs": [
    {
     "data": {
      "text/html": [
       "<div>\n",
       "<style scoped>\n",
       "    .dataframe tbody tr th:only-of-type {\n",
       "        vertical-align: middle;\n",
       "    }\n",
       "\n",
       "    .dataframe tbody tr th {\n",
       "        vertical-align: top;\n",
       "    }\n",
       "\n",
       "    .dataframe thead th {\n",
       "        text-align: right;\n",
       "    }\n",
       "</style>\n",
       "<table border=\"1\" class=\"dataframe\">\n",
       "  <thead>\n",
       "    <tr style=\"text-align: right;\">\n",
       "      <th></th>\n",
       "      <th>Content ID</th>\n",
       "      <th>User ID</th>\n",
       "      <th>Type</th>\n",
       "      <th>Datetime</th>\n",
       "      <th>Sentiment</th>\n",
       "      <th>Score</th>\n",
       "    </tr>\n",
       "  </thead>\n",
       "  <tbody>\n",
       "    <tr>\n",
       "      <th>0</th>\n",
       "      <td>97522e57-d9ab-4bd6-97bf-c24d952602d2</td>\n",
       "      <td>5d454588-283d-459d-915d-c48a2cb4c27f</td>\n",
       "      <td>disgust</td>\n",
       "      <td>2020-11-07 09:43:50</td>\n",
       "      <td>negative</td>\n",
       "      <td>0</td>\n",
       "    </tr>\n",
       "    <tr>\n",
       "      <th>1</th>\n",
       "      <td>97522e57-d9ab-4bd6-97bf-c24d952602d2</td>\n",
       "      <td>92b87fa5-f271-43e0-af66-84fac21052e6</td>\n",
       "      <td>dislike</td>\n",
       "      <td>2021-06-17 12:22:51</td>\n",
       "      <td>negative</td>\n",
       "      <td>10</td>\n",
       "    </tr>\n",
       "    <tr>\n",
       "      <th>2</th>\n",
       "      <td>97522e57-d9ab-4bd6-97bf-c24d952602d2</td>\n",
       "      <td>163daa38-8b77-48c9-9af6-37a6c1447ac2</td>\n",
       "      <td>scared</td>\n",
       "      <td>2021-04-18 05:13:58</td>\n",
       "      <td>negative</td>\n",
       "      <td>15</td>\n",
       "    </tr>\n",
       "    <tr>\n",
       "      <th>3</th>\n",
       "      <td>97522e57-d9ab-4bd6-97bf-c24d952602d2</td>\n",
       "      <td>34e8add9-0206-47fd-a501-037b994650a2</td>\n",
       "      <td>disgust</td>\n",
       "      <td>2021-01-06 19:13:01</td>\n",
       "      <td>negative</td>\n",
       "      <td>0</td>\n",
       "    </tr>\n",
       "    <tr>\n",
       "      <th>4</th>\n",
       "      <td>97522e57-d9ab-4bd6-97bf-c24d952602d2</td>\n",
       "      <td>9b6d35f9-5e15-4cd0-a8d7-b1f3340e02c4</td>\n",
       "      <td>interested</td>\n",
       "      <td>2020-08-23 12:25:58</td>\n",
       "      <td>positive</td>\n",
       "      <td>30</td>\n",
       "    </tr>\n",
       "  </tbody>\n",
       "</table>\n",
       "</div>"
      ],
      "text/plain": [
       "                             Content ID                               User ID  \\\n",
       "0  97522e57-d9ab-4bd6-97bf-c24d952602d2  5d454588-283d-459d-915d-c48a2cb4c27f   \n",
       "1  97522e57-d9ab-4bd6-97bf-c24d952602d2  92b87fa5-f271-43e0-af66-84fac21052e6   \n",
       "2  97522e57-d9ab-4bd6-97bf-c24d952602d2  163daa38-8b77-48c9-9af6-37a6c1447ac2   \n",
       "3  97522e57-d9ab-4bd6-97bf-c24d952602d2  34e8add9-0206-47fd-a501-037b994650a2   \n",
       "4  97522e57-d9ab-4bd6-97bf-c24d952602d2  9b6d35f9-5e15-4cd0-a8d7-b1f3340e02c4   \n",
       "\n",
       "         Type            Datetime Sentiment  Score  \n",
       "0     disgust 2020-11-07 09:43:50  negative      0  \n",
       "1     dislike 2021-06-17 12:22:51  negative     10  \n",
       "2      scared 2021-04-18 05:13:58  negative     15  \n",
       "3     disgust 2021-01-06 19:13:01  negative      0  \n",
       "4  interested 2020-08-23 12:25:58  positive     30  "
      ]
     },
     "execution_count": 36,
     "metadata": {},
     "output_type": "execute_result"
    }
   ],
   "source": [
    "# Merge the reaction and reaction_type datasets\n",
    "result1 = pd.merge(reaction, reaction_types, how=\"left\", on=['Type'])\n",
    "result1.head()"
   ]
  },
  {
   "cell_type": "code",
   "execution_count": 37,
   "id": "3c5e42ed",
   "metadata": {},
   "outputs": [
    {
     "data": {
      "text/plain": [
       "(24573, 6)"
      ]
     },
     "execution_count": 37,
     "metadata": {},
     "output_type": "execute_result"
    }
   ],
   "source": [
    "result1.shape"
   ]
  },
  {
   "cell_type": "markdown",
   "id": "4ec24655",
   "metadata": {},
   "source": [
    "I have to change the column name for both Type columns in Content and Result1 because they represent 2 different things, but are named the same"
   ]
  },
  {
   "cell_type": "code",
   "execution_count": 38,
   "id": "e90cf5ae",
   "metadata": {},
   "outputs": [],
   "source": [
    "# rename column in content dataset from Type to Content Type\n",
    "content.rename(columns={'Type':'Content Type'}, inplace=True)\n",
    "#content.head(3)"
   ]
  },
  {
   "cell_type": "code",
   "execution_count": 39,
   "id": "d9804b58",
   "metadata": {},
   "outputs": [
    {
     "data": {
      "text/html": [
       "<div>\n",
       "<style scoped>\n",
       "    .dataframe tbody tr th:only-of-type {\n",
       "        vertical-align: middle;\n",
       "    }\n",
       "\n",
       "    .dataframe tbody tr th {\n",
       "        vertical-align: top;\n",
       "    }\n",
       "\n",
       "    .dataframe thead th {\n",
       "        text-align: right;\n",
       "    }\n",
       "</style>\n",
       "<table border=\"1\" class=\"dataframe\">\n",
       "  <thead>\n",
       "    <tr style=\"text-align: right;\">\n",
       "      <th></th>\n",
       "      <th>Content ID</th>\n",
       "      <th>User ID</th>\n",
       "      <th>Rection Type</th>\n",
       "      <th>Datetime</th>\n",
       "      <th>Sentiment</th>\n",
       "      <th>Score</th>\n",
       "    </tr>\n",
       "  </thead>\n",
       "  <tbody>\n",
       "    <tr>\n",
       "      <th>0</th>\n",
       "      <td>97522e57-d9ab-4bd6-97bf-c24d952602d2</td>\n",
       "      <td>5d454588-283d-459d-915d-c48a2cb4c27f</td>\n",
       "      <td>disgust</td>\n",
       "      <td>2020-11-07 09:43:50</td>\n",
       "      <td>negative</td>\n",
       "      <td>0</td>\n",
       "    </tr>\n",
       "    <tr>\n",
       "      <th>1</th>\n",
       "      <td>97522e57-d9ab-4bd6-97bf-c24d952602d2</td>\n",
       "      <td>92b87fa5-f271-43e0-af66-84fac21052e6</td>\n",
       "      <td>dislike</td>\n",
       "      <td>2021-06-17 12:22:51</td>\n",
       "      <td>negative</td>\n",
       "      <td>10</td>\n",
       "    </tr>\n",
       "    <tr>\n",
       "      <th>2</th>\n",
       "      <td>97522e57-d9ab-4bd6-97bf-c24d952602d2</td>\n",
       "      <td>163daa38-8b77-48c9-9af6-37a6c1447ac2</td>\n",
       "      <td>scared</td>\n",
       "      <td>2021-04-18 05:13:58</td>\n",
       "      <td>negative</td>\n",
       "      <td>15</td>\n",
       "    </tr>\n",
       "  </tbody>\n",
       "</table>\n",
       "</div>"
      ],
      "text/plain": [
       "                             Content ID                               User ID  \\\n",
       "0  97522e57-d9ab-4bd6-97bf-c24d952602d2  5d454588-283d-459d-915d-c48a2cb4c27f   \n",
       "1  97522e57-d9ab-4bd6-97bf-c24d952602d2  92b87fa5-f271-43e0-af66-84fac21052e6   \n",
       "2  97522e57-d9ab-4bd6-97bf-c24d952602d2  163daa38-8b77-48c9-9af6-37a6c1447ac2   \n",
       "\n",
       "  Rection Type            Datetime Sentiment  Score  \n",
       "0      disgust 2020-11-07 09:43:50  negative      0  \n",
       "1      dislike 2021-06-17 12:22:51  negative     10  \n",
       "2       scared 2021-04-18 05:13:58  negative     15  "
      ]
     },
     "execution_count": 39,
     "metadata": {},
     "output_type": "execute_result"
    }
   ],
   "source": [
    "# rename column in result1 dataset from Type to Reaction Type\n",
    "result1.rename(columns={'Type': 'Rection Type'}, inplace=True)\n",
    "result1.head(20)"
   ]
  },
  {
   "cell_type": "code",
   "execution_count": 42,
   "id": "5f952261",
   "metadata": {},
   "outputs": [
    {
     "data": {
      "text/html": [
       "<div>\n",
       "<style scoped>\n",
       "    .dataframe tbody tr th:only-of-type {\n",
       "        vertical-align: middle;\n",
       "    }\n",
       "\n",
       "    .dataframe tbody tr th {\n",
       "        vertical-align: top;\n",
       "    }\n",
       "\n",
       "    .dataframe thead th {\n",
       "        text-align: right;\n",
       "    }\n",
       "</style>\n",
       "<table border=\"1\" class=\"dataframe\">\n",
       "  <thead>\n",
       "    <tr style=\"text-align: right;\">\n",
       "      <th></th>\n",
       "      <th>Content ID</th>\n",
       "      <th>User ID</th>\n",
       "      <th>Rection Type</th>\n",
       "      <th>Datetime</th>\n",
       "      <th>Sentiment</th>\n",
       "      <th>Score</th>\n",
       "      <th>Content Type</th>\n",
       "      <th>Category</th>\n",
       "    </tr>\n",
       "  </thead>\n",
       "  <tbody>\n",
       "    <tr>\n",
       "      <th>0</th>\n",
       "      <td>97522e57-d9ab-4bd6-97bf-c24d952602d2</td>\n",
       "      <td>5d454588-283d-459d-915d-c48a2cb4c27f</td>\n",
       "      <td>disgust</td>\n",
       "      <td>2020-11-07 09:43:50</td>\n",
       "      <td>negative</td>\n",
       "      <td>0</td>\n",
       "      <td>photo</td>\n",
       "      <td>Studying</td>\n",
       "    </tr>\n",
       "    <tr>\n",
       "      <th>1</th>\n",
       "      <td>97522e57-d9ab-4bd6-97bf-c24d952602d2</td>\n",
       "      <td>92b87fa5-f271-43e0-af66-84fac21052e6</td>\n",
       "      <td>dislike</td>\n",
       "      <td>2021-06-17 12:22:51</td>\n",
       "      <td>negative</td>\n",
       "      <td>10</td>\n",
       "      <td>photo</td>\n",
       "      <td>Studying</td>\n",
       "    </tr>\n",
       "    <tr>\n",
       "      <th>2</th>\n",
       "      <td>97522e57-d9ab-4bd6-97bf-c24d952602d2</td>\n",
       "      <td>163daa38-8b77-48c9-9af6-37a6c1447ac2</td>\n",
       "      <td>scared</td>\n",
       "      <td>2021-04-18 05:13:58</td>\n",
       "      <td>negative</td>\n",
       "      <td>15</td>\n",
       "      <td>photo</td>\n",
       "      <td>Studying</td>\n",
       "    </tr>\n",
       "    <tr>\n",
       "      <th>3</th>\n",
       "      <td>97522e57-d9ab-4bd6-97bf-c24d952602d2</td>\n",
       "      <td>34e8add9-0206-47fd-a501-037b994650a2</td>\n",
       "      <td>disgust</td>\n",
       "      <td>2021-01-06 19:13:01</td>\n",
       "      <td>negative</td>\n",
       "      <td>0</td>\n",
       "      <td>photo</td>\n",
       "      <td>Studying</td>\n",
       "    </tr>\n",
       "    <tr>\n",
       "      <th>4</th>\n",
       "      <td>97522e57-d9ab-4bd6-97bf-c24d952602d2</td>\n",
       "      <td>9b6d35f9-5e15-4cd0-a8d7-b1f3340e02c4</td>\n",
       "      <td>interested</td>\n",
       "      <td>2020-08-23 12:25:58</td>\n",
       "      <td>positive</td>\n",
       "      <td>30</td>\n",
       "      <td>photo</td>\n",
       "      <td>Studying</td>\n",
       "    </tr>\n",
       "  </tbody>\n",
       "</table>\n",
       "</div>"
      ],
      "text/plain": [
       "                             Content ID                               User ID  \\\n",
       "0  97522e57-d9ab-4bd6-97bf-c24d952602d2  5d454588-283d-459d-915d-c48a2cb4c27f   \n",
       "1  97522e57-d9ab-4bd6-97bf-c24d952602d2  92b87fa5-f271-43e0-af66-84fac21052e6   \n",
       "2  97522e57-d9ab-4bd6-97bf-c24d952602d2  163daa38-8b77-48c9-9af6-37a6c1447ac2   \n",
       "3  97522e57-d9ab-4bd6-97bf-c24d952602d2  34e8add9-0206-47fd-a501-037b994650a2   \n",
       "4  97522e57-d9ab-4bd6-97bf-c24d952602d2  9b6d35f9-5e15-4cd0-a8d7-b1f3340e02c4   \n",
       "\n",
       "  Rection Type            Datetime Sentiment  Score Content Type  Category  \n",
       "0      disgust 2020-11-07 09:43:50  negative      0        photo  Studying  \n",
       "1      dislike 2021-06-17 12:22:51  negative     10        photo  Studying  \n",
       "2       scared 2021-04-18 05:13:58  negative     15        photo  Studying  \n",
       "3      disgust 2021-01-06 19:13:01  negative      0        photo  Studying  \n",
       "4   interested 2020-08-23 12:25:58  positive     30        photo  Studying  "
      ]
     },
     "execution_count": 42,
     "metadata": {},
     "output_type": "execute_result"
    }
   ],
   "source": [
    "# Merge the result1 and content datasets\n",
    "final_dataset = pd.merge(result1, content, how=\"left\", on=['Content ID'])\n",
    "final_dataset.head()"
   ]
  },
  {
   "cell_type": "code",
   "execution_count": null,
   "id": "026e6de7",
   "metadata": {},
   "outputs": [],
   "source": []
  }
 ],
 "metadata": {
  "kernelspec": {
   "display_name": "Python [conda env:GPUenv] *",
   "language": "python",
   "name": "conda-env-GPUenv-py"
  },
  "language_info": {
   "codemirror_mode": {
    "name": "ipython",
    "version": 3
   },
   "file_extension": ".py",
   "mimetype": "text/x-python",
   "name": "python",
   "nbconvert_exporter": "python",
   "pygments_lexer": "ipython3",
   "version": "3.8.11"
  }
 },
 "nbformat": 4,
 "nbformat_minor": 5
}
